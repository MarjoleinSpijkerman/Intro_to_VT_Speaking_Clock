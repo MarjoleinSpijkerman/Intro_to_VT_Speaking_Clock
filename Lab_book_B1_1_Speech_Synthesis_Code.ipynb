{
  "nbformat": 4,
  "nbformat_minor": 0,
  "metadata": {
    "colab": {
      "name": "Lab book B1-1 Speech Synthesis Code ",
      "provenance": [],
      "collapsed_sections": [],
      "authorship_tag": "ABX9TyO1Pswo14e3nANQtDWKBdTI",
      "include_colab_link": true
    },
    "kernelspec": {
      "name": "python3",
      "display_name": "Python 3"
    },
    "language_info": {
      "name": "python"
    }
  },
  "cells": [
    {
      "cell_type": "markdown",
      "metadata": {
        "id": "view-in-github",
        "colab_type": "text"
      },
      "source": [
        "<a href=\"https://colab.research.google.com/github/MarjoleinSpijkerman/Intro_to_VT_Speaking_Clock/blob/main/Lab_book_B1_1_Speech_Synthesis_Code.ipynb\" target=\"_parent\"><img src=\"https://colab.research.google.com/assets/colab-badge.svg\" alt=\"Open In Colab\"/></a>"
      ]
    },
    {
      "cell_type": "markdown",
      "metadata": {
        "id": "iHi5HPTFPn0k"
      },
      "source": [
        "Assignment 1:"
      ]
    },
    {
      "cell_type": "code",
      "metadata": {
        "colab": {
          "base_uri": "https://localhost:8080/"
        },
        "id": "7QtNNYLMpXh1",
        "outputId": "4dcf7d18-4d26-4b28-cde9-641981370b3c"
      },
      "source": [
        "import re\n",
        "\n",
        "#I imported regular expressions becuase I want to use them here to extract what I want using re.findall.\n",
        "\n",
        "#I start off by creating a string of both the number and url examples. \n",
        "#I used the examples given and added a few words just to put more in the string to make it more realistic to a website.\n",
        "\n",
        "text_sample = 'and numbers too +31503638004 also +31 50 363 80 04 and +31 50-363-80-04 the end'\n",
        "\n",
        "text_sample_url = 'https://www.rug.nl/info/contact extra words for fun\\\n",
        "                https://en.wikipedia.org/wiki/Regular\\_expression\\#Syntax more filler words \\\n",
        "                https://www.google.com/search?q=python\\%20re'\n",
        "\n",
        "#I was running into some problems with my code accepting all the numbers. \n",
        "#After several attempts I finally got the number without spaces or dashes to print. \n",
        "#So I removed the spaces and dashes from the string and replaced them with 'nothing'.\n",
        "#This allowed my code to grab all of the numbers instead of just 1.\n",
        "\n",
        "text_sample = re.sub(r'\\s|-', '', text_sample)\n",
        "\n",
        "#Then I use findall to look specifically for '+' and digits in length from 1 up to 15.\n",
        "\n",
        "text_sample = re.findall(r'\\+\\d{1,15}', text_sample)\n",
        "print(text_sample)\n",
        "\n",
        "#I can use findall again to get just the urls.\n",
        "#In this case in looking for 'http' at the beginning of the boundary,\n",
        "#and taking all of the characters that come after until a space appears.\n",
        "\n",
        "text_sample_url = re.findall(r\"\\b[http]\\S+\", text_sample_url)\n",
        "print(text_sample_url)\n",
        "\n",
        "#So there we have it! When the code is run we get 2 lists.\n",
        "#One with only international phone numbers, and one with only urls starting with http.\n",
        "\n",
        "#This works for the purpose here, but it would take longer (and be interesting)\n",
        "#to code something that works for all urls (like www as well) and different formats\n",
        "#of phone numbers.\n"
      ],
      "execution_count": null,
      "outputs": [
        {
          "output_type": "stream",
          "name": "stdout",
          "text": [
            "['+31503638004', '+31503638004', '+31503638004']\n",
            "['https://www.rug.nl/info/contact', 'https://en.wikipedia.org/wiki/Regular\\\\_expression\\\\#Syntax', 'https://www.google.com/search?q=python\\\\%20re']\n"
          ]
        }
      ]
    },
    {
      "cell_type": "markdown",
      "metadata": {
        "id": "W6EVhdnMRr32"
      },
      "source": [
        "Assignment 2:"
      ]
    },
    {
      "cell_type": "code",
      "metadata": {
        "colab": {
          "base_uri": "https://localhost:8080/"
        },
        "id": "4nY3fLdZLvJA",
        "outputId": "c2a145f5-ab13-464f-a8b5-98df08e1c49e"
      },
      "source": [
        "#Here I started coding the second part, thinking it was necessary to use code rather than traditional writing!\n",
        "#I decided to keep it in for future reference and just for fun (I spent a lot of time on it).\n",
        "#I was planning on making dictionaries to turn the numbers into words, \n",
        "#and the abbreviations into full words (yo = years old).\n",
        "#This is what is had so far:\n",
        "\n",
        "import re\n",
        "\n",
        "space = 'Space is big.'\n",
        "print(re.findall(r'[\\w]+', space))\n",
        "\n",
        "big = 'You just wont believe how vastly, hugely, mind-bogglingly big it is.'\n",
        "print(re.findall(r'[\\w]+', big))\n",
        "\n",
        "pay = 'I’m gonna write to test@example.com if you pay me €42.42.'\n",
        "print(re.findall(r'[\\w]+', pay))\n",
        "\n",
        "marie = 'In 1903 Polish physicist Marie Curie became the 1st woman to win a Nobel Prize, she was 36y.o. then.'\n",
        "print(re.findall(r'[\\w]+', marie))\n"
      ],
      "execution_count": null,
      "outputs": [
        {
          "output_type": "stream",
          "name": "stdout",
          "text": [
            "['Space', 'is', 'big']\n",
            "['You', 'just', 'wont', 'believe', 'how', 'vastly', 'hugely', 'mind', 'bogglingly', 'big', 'it', 'is']\n",
            "['I', 'm', 'gonna', 'write', 'to', 'test', 'example', 'com', 'if', 'you', 'pay', 'me', '42', '42']\n",
            "['In', '1903', 'Polish', 'physicist', 'Marie', 'Curie', 'became', 'the', '1st', 'woman', 'to', 'win', 'a', 'Nobel', 'Prize', 'she', 'was', '36y', 'o', 'then']\n"
          ]
        }
      ]
    },
    {
      "cell_type": "code",
      "metadata": {
        "colab": {
          "base_uri": "https://localhost:8080/"
        },
        "id": "peUjQw9bSZzc",
        "outputId": "1bddb121-c9b4-4d7b-b606-95ccf84030cf"
      },
      "source": [
        "#prints out number\n",
        "num = 'I’m gonna write to test@example.com if you pay me €42.42.'\n",
        "(re.findall(r'\\€\\d+\\.\\d+', num))"
      ],
      "execution_count": null,
      "outputs": [
        {
          "output_type": "execute_result",
          "data": {
            "text/plain": [
              "['€42.42']"
            ]
          },
          "metadata": {},
          "execution_count": 71
        }
      ]
    },
    {
      "cell_type": "code",
      "metadata": {
        "colab": {
          "base_uri": "https://localhost:8080/"
        },
        "id": "pCXoR8RFSdyE",
        "outputId": "58b4ebc3-8a19-4a00-c357-12e76b041b7e"
      },
      "source": [
        "#prints out email\n",
        "email = 'I’m gonna write to test@example.com if you pay me €42.42.'\n",
        "(re.findall(r'\\w+@\\w+.\\w+', email))"
      ],
      "execution_count": null,
      "outputs": [
        {
          "output_type": "execute_result",
          "data": {
            "text/plain": [
              "['test@example.com']"
            ]
          },
          "metadata": {},
          "execution_count": 72
        }
      ]
    }
  ]
}